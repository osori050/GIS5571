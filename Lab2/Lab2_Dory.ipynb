{
 "cells": [
  {
   "cell_type": "code",
   "execution_count": 1,
   "metadata": {},
   "outputs": [],
   "source": [
    "# Indicates where the projection database is prior to importing fiona\n",
    "import os\n",
    "os.environ['PROJ_LIB'] = r'C:\\Users\\osori050\\AppData\\Local\\ESRI\\conda\\envs\\arcgispro-py3-clone\\Library\\share\\proj'"
   ]
  },
  {
   "cell_type": "code",
   "execution_count": 2,
   "metadata": {},
   "outputs": [],
   "source": [
    "import arcpy\n",
    "from arcpy.sa import *\n",
    "import requests\n",
    "import zipfile\n",
    "import io\n",
    "import json\n",
    "from shapely import geometry\n",
    "from fiona.crs import from_epsg\n",
    "import fiona"
   ]
  },
  {
   "cell_type": "code",
   "execution_count": 3,
   "metadata": {},
   "outputs": [],
   "source": [
    "arcpy.env.workspace = r'E:\\ArcGIS_1\\Lab2\\Dory'\n",
    "workspace = arcpy.env.workspace"
   ]
  },
  {
   "cell_type": "code",
   "execution_count": 4,
   "metadata": {},
   "outputs": [],
   "source": [
    "# Retrieves the location of the North Picnic Area park from Google Places \n",
    "north_picnic_link = r'https://maps.googleapis.com/maps/api/place/findplacefromtext/json?input=North%20Picnic%20area%20St%20Charles%20Minnesota&inputtype=textquery&fields=formatted_address%2Cname%2Crating%2Copening_hours%2Cgeometry&key=YOUR_API_KEY'\n",
    "north_picnic = requests.get(north_picnic_link)\n",
    "north_picnic_dic = json.loads(north_picnic.text)\n",
    "coords = north_picnic_dic['candidates'][0]['geometry']['location']\n",
    "north_picnic_location = [float(coords['lng']), float(coords['lat'])]\n",
    "\n",
    "# Dory's house\n",
    "house = [-92.148796, 44.127985,]"
   ]
  },
  {
   "cell_type": "code",
   "execution_count": 5,
   "metadata": {},
   "outputs": [],
   "source": [
    "# Creates shapefiles with the coordinates of the start and end points\n",
    "\n",
    "dory_schema =  {'geometry': 'Point', 'properties': {'location': 'str'}}\n",
    "\n",
    "with fiona.open(r\"points.shp\", 'w', crs = from_epsg(4326), driver = 'ESRI Shapefile', schema = dory_schema) as output:\n",
    "    points = [geometry.Point(house[0], house[1]), geometry.Point(north_picnic_location[0], north_picnic_location[1])]\n",
    "    location = ['Start point', 'End point']\n",
    "    for i in range(2):\n",
    "        prop = {'location': location[i]}\n",
    "        output.write({'geometry': geometry.mapping(points[i]), 'properties': prop})"
   ]
  },
  {
   "cell_type": "code",
   "execution_count": 6,
   "metadata": {},
   "outputs": [
    {
     "data": {
      "text/html": [
       "<div class='gpresult'><h2>Messages</h2><div id='messages' data-messages='[\"Start Time: Thursday, October 20, 2022 11:47:04 AM\",\"Succeeded at Thursday, October 20, 2022 11:47:04 AM (Elapsed Time: 0.31 seconds)\"]' data-show='true'><div id = 'default' /></div></div>"
      ],
      "text/plain": [
       "<Result 'E:\\\\ArcGIS_1\\\\Lab2\\\\Dory\\\\AOI.shp'>"
      ]
     },
     "execution_count": 6,
     "metadata": {},
     "output_type": "execute_result"
    }
   ],
   "source": [
    "# Projects to NAD83 UTM Zone 15N, creates a bounding box around the start and end points, \n",
    "# and creates an 8-km buffer to consider land beyond the bounding box in the analysis \n",
    "arcpy.management.Project(r\"points.shp\", r\"points_Project.shp\", 'PROJCS[\"NAD_1983_UTM_Zone_15N\",GEOGCS[\"GCS_North_American_1983\",DATUM[\"D_North_American_1983\",SPHEROID[\"GRS_1980\",6378137.0,298.257222101]],PRIMEM[\"Greenwich\",0.0],UNIT[\"Degree\",0.0174532925199433]],PROJECTION[\"Transverse_Mercator\"],PARAMETER[\"False_Easting\",500000.0],PARAMETER[\"False_Northing\",0.0],PARAMETER[\"Central_Meridian\",-93.0],PARAMETER[\"Scale_Factor\",0.9996],PARAMETER[\"Latitude_Of_Origin\",0.0],UNIT[\"Meter\",1.0]]', \"WGS_1984_(ITRF00)_To_NAD_1983\", 'GEOGCS[\"GCS_WGS_1984\",DATUM[\"D_WGS_1984\",SPHEROID[\"WGS_1984\",6378137.0,298.257223563]],PRIMEM[\"Greenwich\",0.0],UNIT[\"Degree\",0.0174532925199433]]', \"NO_PRESERVE_SHAPE\", None, \"NO_VERTICAL\")\n",
    "arcpy.management.MinimumBoundingGeometry(r\"points_Project.shp\", r\"polygon.shp\", \"ENVELOPE\", \"ALL\", None, \"NO_MBG_FIELDS\")\n",
    "arcpy.analysis.Buffer(r\"polygon.shp\", r\"AOI.shp\", \"8 Kilometers\", \"FULL\", \"ROUND\", \"ALL\", None, \"PLANAR\")"
   ]
  },
  {
   "cell_type": "markdown",
   "metadata": {},
   "source": [
    "## Slope\n",
    "https://gisdata.mn.gov/dataset/elev-30m-digital-elevation-model"
   ]
  },
  {
   "cell_type": "code",
   "execution_count": 7,
   "metadata": {},
   "outputs": [],
   "source": [
    "# Retrieves DEM from MGC\n",
    "dem_output = requests.post(r'https://resources.gisdata.mn.gov/pub/gdrs/data/pub/us_mn_state_dnr/elev_30m_digital_elevation_model/fgdb_elev_30m_digital_elevation_model.zip')\n",
    "zipfile.ZipFile(io.BytesIO(dem_output.content)).extractall(workspace)"
   ]
  },
  {
   "cell_type": "code",
   "execution_count": 8,
   "metadata": {},
   "outputs": [],
   "source": [
    "# Clips DEM to AOI, creates slope raster, and reclassifies using geometric interval methods as increments in higher slopes\n",
    "# are penalized more severely\n",
    "arcpy.management.Clip(r\"elev_30m_digital_elevation_model.gdb\\digital_elevation_model_30m\", \"560098.327934821 4870356.13572893 584510.985228164 4894439.34794601\", r\"dem.tif\", r\"AOI.shp\", \"32767\", \"NONE\", \"NO_MAINTAIN_EXTENT\")\n",
    "out_raster = arcpy.sa.Slope(r\"dem.tif\", \"DEGREE\", 1, \"PLANAR\", \"METER\"); out_raster.save(r\"slope.tif\")\n",
    "out_raster = arcpy.sa.Reclassify(r\"slope.tif\", \"VALUE\", \"0 3.078800 1;3.078800 10.647242 2;10.647242 29.252321 3;29.252321 74.988144 4\", \"DATA\"); out_raster.save(r\"Reclass_slope.tif\")"
   ]
  },
  {
   "cell_type": "markdown",
   "metadata": {},
   "source": [
    "## Farm fields\n",
    "https://gisdata.mn.gov/dataset/agri-cropland-data-layer-2021"
   ]
  },
  {
   "cell_type": "code",
   "execution_count": 9,
   "metadata": {},
   "outputs": [],
   "source": [
    "# Retrieves farm field information from the Agricultural cropland data layer 2021 from MGC\n",
    "farm_fields = requests.post(r'https://resources.gisdata.mn.gov/pub/gdrs/data/pub/us_mn_state_mda/agri_cropland_data_layer_2021/fgdb_agri_cropland_data_layer_2021.zip')\n",
    "zipfile.ZipFile(io.BytesIO(farm_fields.content)).extractall(workspace)"
   ]
  },
  {
   "cell_type": "code",
   "execution_count": 10,
   "metadata": {},
   "outputs": [],
   "source": [
    "# Clips to AOI and reclassifies\n",
    "arcpy.management.Clip(r\"agri_cropland_data_layer_2021.gdb\\agri_cropland_data_layer_2021\", \"560098.327934821 4870356.13572893 584510.985228164 4894439.34794601\", r\"farm_fields.tif\", r\"AOI.shp\", \"32767\", \"NONE\", \"NO_MAINTAIN_EXTENT\")\n",
    "out_raster = arcpy.sa.Reclassify(r\"farm_fields.tif\", \"CLASS_NAME\", \"Corn 4;Sorghum 4;Soybeans 4;'Sweet Corn' 4;Barley 4;'Spring Wheat' 4;'Winter Wheat' 4;Rye 4;Oats 4;Alfalfa 4;'Other Hay/Non Alfalfa' 4;Sugarbeets 4;'Dry Beans' 4;Potatoes 4;Peas 4;Clover/Wildflowers 3;'Sod/Grass Seed' 4;Switchgrass 3;'Fallow/Idle Cropland' 4;Apples 4;'Open Water' 4;'Developed/Open Space' 1;'Developed/Low Intensity' 1;'Developed/Med Intensity' 1;'Developed/High Intensity' 1;Barren 1;'Deciduous Forest' 2;'Evergreen Forest' 2;'Mixed Forest' 2;Shrubland 2;Grassland/Pasture 3;'Woody Wetlands' 4;'Herbaceous Wetlands' 4\", \"DATA\"); out_raster.save(r\"Reclass_farm_fields.tif\")"
   ]
  },
  {
   "cell_type": "markdown",
   "metadata": {},
   "source": [
    "## Water\n",
    "https://gisdata.mn.gov/dataset/water-mn-public-waters"
   ]
  },
  {
   "cell_type": "code",
   "execution_count": 11,
   "metadata": {},
   "outputs": [],
   "source": [
    "# Retrieves watercourse layers from MGC\n",
    "watercourses = requests.post(r'https://resources.gisdata.mn.gov/pub/gdrs/data/pub/us_mn_state_dnr/water_mn_public_waters/shp_water_mn_public_waters.zip')\n",
    "zipfile.ZipFile(io.BytesIO(watercourses.content)).extractall(workspace)"
   ]
  },
  {
   "cell_type": "code",
   "execution_count": 12,
   "metadata": {},
   "outputs": [],
   "source": [
    "# Clips to AOI\n",
    "arcpy.analysis.Clip(r\"public_waters_watercourses_delineations.shp\", r\"AOI.shp\", r\"watercourse_Clip.shp\", None)\n",
    "# Polyline to raster\n",
    "arcpy.conversion.PolylineToRaster(r\"watercourse_Clip.shp\", \"FID\", r\"watercourse_Raster.tif\", \"MAXIMUM_LENGTH\", \"NONE\", 30, \"BUILD\")\n",
    "# Reclassifies river\n",
    "out_raster = arcpy.sa.Reclassify(r\"watercourse_Raster.tif\", \"Value\", \"0 115 4;NODATA 0\", \"DATA\"); out_raster.save(r\"Reclass_water.tif\")"
   ]
  },
  {
   "cell_type": "markdown",
   "metadata": {},
   "source": [
    "## Bridges\n",
    "https://gisdata.mn.gov/dataset/trans-bridges"
   ]
  },
  {
   "cell_type": "code",
   "execution_count": 13,
   "metadata": {},
   "outputs": [],
   "source": [
    "# Retrieves bridges layers from MGC\n",
    "bridges = requests.post(r'https://resources.gisdata.mn.gov/pub/gdrs/data/pub/us_mn_state_dot/trans_bridges/shp_trans_bridges.zip')\n",
    "zipfile.ZipFile(io.BytesIO(bridges.content)).extractall(workspace)"
   ]
  },
  {
   "cell_type": "code",
   "execution_count": 14,
   "metadata": {},
   "outputs": [],
   "source": [
    "# Buffer to only include bridges within 30 meters of the watercourses \n",
    "arcpy.analysis.Buffer(r\"watercourse_Clip.shp\", r\"watercourse_Buffer.shp\", \"30 Meters\", \"FULL\", \"ROUND\", \"ALL\", None, \"PLANAR\")\n",
    "arcpy.analysis.Clip(r\"Bridge_locations_in_Minnesota.shp\", r\"watercourse_Buffer.shp\", r\"bridges_clip.shp\", None)\n",
    "# As the shapefile is a point vector layer, a Snap is required to place bridges precisely on top of watercourses\n",
    "arcpy.edit.Snap(r\"bridges_clip.shp\", \"watercourse_Clip.shp EDGE '50 Meters'\")\n",
    "# Point to raster\n",
    "arcpy.conversion.PointToRaster(r\"bridges_clip.shp\", \"FID\", r\"bridges__Raster.tif\", \"MOST_FREQUENT\", \"NONE\", 30, \"BUILD\")\n",
    "# Reclassifies bridges with the same value as watercourses \n",
    "out_raster = arcpy.sa.Reclassify(r\"bridges__Raster.tif\", \"Value\", \"0 109 4;NODATA 0\", \"DATA\"); out_raster.save(r\"Reclass_bridge.tif\")"
   ]
  },
  {
   "cell_type": "markdown",
   "metadata": {},
   "source": [
    "## Euclidean Distance"
   ]
  },
  {
   "cell_type": "code",
   "execution_count": 15,
   "metadata": {},
   "outputs": [],
   "source": [
    "# Calculates the euclidean distance between the start and end points (a line), and then the euclidean distance from this line\n",
    "# to the rest of the AOI\n",
    "arcpy.management.PointsToLine(\"points_Project.shp\", r\"Euclidean_distance.shp\", None, None, \"NO_CLOSE\")\n",
    "with arcpy.EnvManager(extent='560095.332039 4870335.370038 584515.332039 4894455.370038 PROJCS[\"NAD_1983_UTM_Zone_15N\",GEOGCS[\"GCS_North_American_1983\",DATUM[\"D_North_American_1983\",SPHEROID[\"GRS_1980\",6378137.0,298.257222101]],PRIMEM[\"Greenwich\",0.0],UNIT[\"Degree\",0.0174532925199433]],PROJECTION[\"Transverse_Mercator\"],PARAMETER[\"False_Easting\",500000.0],PARAMETER[\"False_Northing\",0.0],PARAMETER[\"Central_Meridian\",-93.0],PARAMETER[\"Scale_Factor\",0.9996],PARAMETER[\"Latitude_Of_Origin\",0.0],UNIT[\"Meter\",1.0]]'):\n",
    "    out_distance_raster = arcpy.sa.EucDistance(\"Euclidean_distance.shp\", None, 30, None, \"PLANAR\", None, None); out_distance_raster.save(r\"EucDist.tif\")\n",
    "\n",
    "# Reclassifies the euclidean distance to the line using the geometric interval (same as with the slope above) \n",
    "out_raster = arcpy.sa.Reclassify(\"EucDist.tif\", \"VALUE\", \"0 4044.337550 1;4044.337550 6547.644254 2;6547.644254 10591.981804 3;10591.981804 17126.005859 4\", \"DATA\"); out_raster.save(r\"Reclass_EucDist.tif\")"
   ]
  },
  {
   "cell_type": "markdown",
   "metadata": {},
   "source": [
    "## Cost surface\n",
    "This block of code creates different cost surface rasters based on the weight factors inputted by the user and saves the datasets to disk. It stops when the user specifies they do not want to create a new cost surface by typing \"no\" in the input box."
   ]
  },
  {
   "cell_type": "code",
   "execution_count": 20,
   "metadata": {},
   "outputs": [
    {
     "name": "stdout",
     "output_type": "stream",
     "text": [
      "New cost surface?yes\n",
      "Enter weighting factor for distance0.5\n",
      "Enter weighting factor for farm fields2\n",
      "Enter weighting factor for water3\n",
      "Enter weighting factor for bridge. It can be negative if you want to counterbalance the cost of crossing water bodies-2\n",
      "Enter weighting factor for slope1\n",
      "New cost surface?no\n"
     ]
    }
   ],
   "source": [
    "# Keeps track of the cost surfaces created by the user\n",
    "counter = 0\n",
    "\n",
    "while True:\n",
    "    question = input('New cost surface?')\n",
    "    \n",
    "    if question.lower() == 'yes':\n",
    "        try:\n",
    "            v = float(input('Enter weighting factor for distance'))\n",
    "            w = float(input('Enter weighting factor for farm fields'))\n",
    "            x = float(input('Enter weighting factor for water'))\n",
    "            y = float(input('Enter weighting factor for bridge. It can be negative if you want to counterbalance the cost of crossing water bodies'))\n",
    "            z = float(input('Enter weighting factor for slope'))\n",
    "        except:\n",
    "            raise Exception ('Please enter numeric input')\n",
    "            \n",
    "        # Changes the name of the output in each cycle not to overwrite the datasets\n",
    "        counter += 1\n",
    "        output_name = workspace + r\"\\cost_surface_\" + str(counter) + \".tif\"\n",
    "\n",
    "        # Map algebra \n",
    "        algebra = v*Raster(\"Reclass_EucDist.tif\") + w*Raster(\"Reclass_farm_fields.tif\") + x*Raster(\"Reclass_water.tif\") + y*Raster(\"Reclass_bridge.tif\") + z*Raster(\"Reclass_slope.tif\")\n",
    "        algebra.save(output_name)\n",
    "        \n",
    "    elif question.lower() == 'no':\n",
    "        break\n",
    "    else:\n",
    "        print('Please enter only \"yes\" or \"no\"')"
   ]
  }
 ],
 "metadata": {
  "kernelspec": {
   "display_name": "ArcGISPro",
   "language": "Python",
   "name": "python3"
  },
  "language_info": {
   "file_extension": ".py",
   "name": "python",
   "version": "3"
  }
 },
 "nbformat": 4,
 "nbformat_minor": 2
}
