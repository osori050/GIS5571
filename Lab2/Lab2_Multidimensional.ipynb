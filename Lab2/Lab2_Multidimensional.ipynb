{
 "cells": [
  {
   "cell_type": "code",
   "execution_count": 1,
   "metadata": {},
   "outputs": [],
   "source": [
    "import arcpy\n",
    "import requests\n",
    "import zipfile\n",
    "import io\n",
    "from arcpy import env"
   ]
  },
  {
   "cell_type": "code",
   "execution_count": 2,
   "metadata": {},
   "outputs": [],
   "source": [
    "# Sets workspace\n",
    "arcpy.env.workspace = r'E:\\ArcGIS_1\\Lab2\\LiDAR'\n",
    "workspace = arcpy.env.workspace"
   ]
  },
  {
   "cell_type": "markdown",
   "metadata": {},
   "source": [
    "## Elevation"
   ]
  },
  {
   "cell_type": "code",
   "execution_count": 3,
   "metadata": {},
   "outputs": [],
   "source": [
    "# Downloads .las file and saves to disk\n",
    "lidar_link = r'https://resources.gisdata.mn.gov/pub/data/elevation/lidar/examples/lidar_sample/las/4342-12-05.las'\n",
    "lidar_output = requests.post(lidar_link)\n",
    "with open(r'MGC.las', 'wb') as las:\n",
    "    las.write(lidar_output.content)"
   ]
  },
  {
   "cell_type": "code",
   "execution_count": 4,
   "metadata": {},
   "outputs": [
    {
     "data": {
      "text/html": [
       "<div class='gpresult'><h2>Messages</h2><div id='messages' data-messages='[\"Start Time: Tuesday, November 1, 2022 12:03:48 AM\",\"Succeeded at Tuesday, November 1, 2022 12:03:50 AM (Elapsed Time: 1.28 seconds)\"]' data-show='true'><div id = 'default' /></div></div>"
      ],
      "text/plain": [
       "<Result 'E:\\\\ArcGIS_1\\\\Lab2\\\\LiDAR\\\\MGC_LasDataset.lasd'>"
      ]
     },
     "execution_count": 4,
     "metadata": {},
     "output_type": "execute_result"
    }
   ],
   "source": [
    "# Creates LAS Dataset\n",
    "arcpy.management.CreateLasDataset(r\"MGC.las\", r\"MGC_LasDataset.lasd\", \"NO_RECURSION\", None, 'PROJCS[\"datum_D_North_American_1983_HARN_UTM_Zone_15N\",GEOGCS[\"GCS_datum_D_North_American_1983_HARN\",DATUM[\"D_unknown\",SPHEROID[\"GRS_1980\",6378137.0,298.257222101]],PRIMEM[\"Greenwich\",0.0],UNIT[\"Degree\",0.0174532925199433]],PROJECTION[\"Transverse_Mercator\"],PARAMETER[\"false_easting\",500000.0],PARAMETER[\"false_northing\",0.0],PARAMETER[\"central_meridian\",-93.0],PARAMETER[\"scale_factor\",0.9996],PARAMETER[\"latitude_of_origin\",0.0],UNIT[\"Meter\",1.0]],VERTCS[\"NAVD88 - Geoid03 (Meters)\",VDATUM[\"unknown\"],PARAMETER[\"Vertical_Shift\",0.0],PARAMETER[\"Direction\",1.0],UNIT[\"Meter\",1.0]]', \"COMPUTE_STATS\", \"ABSOLUTE_PATHS\", \"NO_FILES\", \"DEFAULT\", None, \"INTERSECTED_FILES\")"
   ]
  },
  {
   "cell_type": "code",
   "execution_count": 5,
   "metadata": {},
   "outputs": [
    {
     "data": {
      "text/html": [
       "<div class='gpresult'><h2>Messages</h2><div id='messages' data-messages='[\"Start Time: Tuesday, November 1, 2022 12:03:51 AM\",\"Succeeded at Tuesday, November 1, 2022 12:03:52 AM (Elapsed Time: 1.05 seconds)\"]' data-show='true'><div id = 'default' /></div></div>"
      ],
      "text/plain": [
       "<Result 'E:\\\\ArcGIS_1\\\\Lab2\\\\LiDAR\\\\MGC_DEM.tif'>"
      ]
     },
     "execution_count": 5,
     "metadata": {},
     "output_type": "execute_result"
    }
   ],
   "source": [
    "# Creates TIN y DEM\n",
    "arcpy.ddd.LasDatasetToTin(r\"MGC_LasDataset.lasd\", r\"MGC_TIN\", \"WINDOW_SIZE\", \"MIN\", 13.989, 500000, 10, \"CLIP\")\n",
    "arcpy.conversion.LasDatasetToRaster(r\"MGC_LasDataset.lasd\", r\"MGC_DEM.tif\", \"ELEVATION\", \"BINNING AVERAGE LINEAR\", \"FLOAT\", \"CELLSIZE\", 10, 1)"
   ]
  },
  {
   "cell_type": "code",
   "execution_count": 6,
   "metadata": {},
   "outputs": [
    {
     "data": {
      "text/plain": [
       "'mgc_dem.pdf'"
      ]
     },
     "execution_count": 6,
     "metadata": {},
     "output_type": "execute_result"
    }
   ],
   "source": [
    "# Creates reference to map\n",
    "aprx = arcpy.mp.ArcGISProject(\"CURRENT\")\n",
    "m = aprx.listMaps(\"Map\")[0]\n",
    "\n",
    "# Creates DEM layer for display in layout\n",
    "arcpy.management.SaveToLayerFile(\"MGC_DEM.tif\", r\"MGC_DEM_layer.lyrx\", None, \"CURRENT\")\n",
    "\n",
    "# Reference to layout \n",
    "mgc_dem = arcpy.mp.LayerFile(r\"E:\\ArcGIS_1\\Lab2\\LiDAR\\MGC_DEM_layer.lyrx\")\n",
    "m.addLayer(mgc_dem)\n",
    "lyt = aprx.listLayouts(\"Layout\")[0]\n",
    "\n",
    "# Exports DEM layout\n",
    "lyt.exportToPDF(r\"mgc_dem.pdf\")"
   ]
  },
  {
   "cell_type": "code",
   "execution_count": 7,
   "metadata": {},
   "outputs": [
    {
     "data": {
      "text/plain": [
       "'mgc_tin.pdf'"
      ]
     },
     "execution_count": 7,
     "metadata": {},
     "output_type": "execute_result"
    }
   ],
   "source": [
    "# Creates TIN layer for display in layout\n",
    "arcpy.management.SaveToLayerFile(\"MGC_TIN\", r\"MGC_TIN_layer.lyrx\", None, \"CURRENT\")\n",
    "\n",
    "# Reference to layout\n",
    "mgc_dem = arcpy.mp.LayerFile(r\"E:\\ArcGIS_1\\Lab2\\LiDAR\\MGC_TIN_layer.lyrx\")\n",
    "m.addLayer(mgc_dem, 'TOP')\n",
    "lyt = aprx.listLayouts(\"Layout\")[0]\n",
    "\n",
    "# Exports TIN layout\n",
    "lyt.exportToPDF(r\"mgc_tin.pdf\")"
   ]
  },
  {
   "cell_type": "markdown",
   "metadata": {},
   "source": [
    "## Precipitation"
   ]
  },
  {
   "cell_type": "code",
   "execution_count": 8,
   "metadata": {},
   "outputs": [
    {
     "data": {
      "text/html": [
       "<div class='gpresult'><h2>Messages</h2><div id='messages' data-messages='[\"Start Time: Tuesday, November 1, 2022 12:04:25 AM\",\"Succeeded at Tuesday, November 1, 2022 12:04:25 AM (Elapsed Time: 0.01 seconds)\"]' data-show='true'><div id = 'default' /></div></div>"
      ],
      "text/plain": [
       "<Result 'E:\\\\ArcGIS_1\\\\Lab2\\\\LiDAR\\\\PRISM'>"
      ]
     },
     "execution_count": 8,
     "metadata": {},
     "output_type": "execute_result"
    }
   ],
   "source": [
    "# New folder for the .bil files\n",
    "arcpy.CreateFolder_management(workspace, \"PRISM\")"
   ]
  },
  {
   "cell_type": "code",
   "execution_count": 9,
   "metadata": {},
   "outputs": [],
   "source": [
    "# Extracts dataset from PRISM API\n",
    "prism_link = r'https://prism.oregonstate.edu/fetchData.php?type=all_bil&kind=normals&spatial=4km&elem=ppt&temporal=annual'\n",
    "prism_output = requests.post(prism_link)\n",
    "zipfile.ZipFile(io.BytesIO(prism_output.content)).extractall('PRISM')"
   ]
  },
  {
   "cell_type": "code",
   "execution_count": 10,
   "metadata": {},
   "outputs": [],
   "source": [
    "# Creates mosaic dataset in the default geodatabase\n",
    "sr = arcpy.SpatialReference(3857)\n",
    "empty_mosaic = arcpy.management.CreateMosaicDataset(r\"E:\\ArcGIS_1\\Lab2\\LiDAR\\LiDAR.gdb\", \"PRISM\", sr)"
   ]
  },
  {
   "cell_type": "code",
   "execution_count": 11,
   "metadata": {},
   "outputs": [
    {
     "data": {
      "text/html": [
       "<div class='gpresult'><h2>Messages</h2><div id='messages' data-messages='[\"Start Time: Tuesday, November 1, 2022 12:04:33 AM\",\"2022-11-01T00:04:34.885: Loading raster datasets\",\"2022-11-01T00:04:34.910: Completed crawling 12 data source items. Added 12 mosaic dataset items.\",\"2022-11-01T00:04:34.911: Synchronizing crawled data source items\",\"2022-11-01T00:04:34.918: Synchronizing items associated with raster type instance &#39;Raster Dataset&#39; [ID: 1].\",\"2022-11-01T00:04:34.921: Distributing mosaic dataset operation across 4 parallel instances on the specified host: [PGC-HILGARDITE].\",\"2022-11-01T00:04:43.956: Estimating raster statistics for mosaic dataset.\",\"2022-11-01T00:04:44.077: Completed synchronization: 12 items selected, 12 items synchronized.\",\"2022-11-01T00:04:44.327: Computing cell size levels\",\"2022-11-01T00:04:44.327: Computing unique cell size values\",\"2022-11-01T00:04:44.379: Computing maximum cell size values\",\"2022-11-01T00:04:44.384: Computing minimum cell size values\",\"2022-11-01T00:04:44.390: Updating visibility values of selected items\",\"2022-11-01T00:04:44.409: Computing maximum cell size for mosaic dataset\",\"2022-11-01T00:04:44.418: Completed computing cell size ranges.\",\"2022-11-01T00:04:44.479: Completed building boundary.\",\"Succeeded at Tuesday, November 1, 2022 12:04:45 AM (Elapsed Time: 11.62 seconds)\"]' data-show='true'><div id = 'default' /></div></div>"
      ],
      "text/plain": [
       "<Result 'PRISM'>"
      ]
     },
     "execution_count": 11,
     "metadata": {},
     "output_type": "execute_result"
    }
   ],
   "source": [
    "# Adds the monthly bil rasters to the mosaic dataset\n",
    "arcpy.management.AddRastersToMosaicDataset(\"PRISM\", \"Raster Dataset\", r\"E:\\ArcGIS_1\\Lab2\\LiDAR\\PRISM\\PRISM_ppt_30yr_normal_4kmM3_01_bil.bil;E:\\ArcGIS_1\\Lab2\\LiDAR\\PRISM\\PRISM_ppt_30yr_normal_4kmM3_02_bil.bil;E:\\ArcGIS_1\\Lab2\\LiDAR\\PRISM\\PRISM_ppt_30yr_normal_4kmM3_03_bil.bil;E:\\ArcGIS_1\\Lab2\\LiDAR\\PRISM\\PRISM_ppt_30yr_normal_4kmM3_04_bil.bil;E:\\ArcGIS_1\\Lab2\\LiDAR\\PRISM\\PRISM_ppt_30yr_normal_4kmM3_05_bil.bil;E:\\ArcGIS_1\\Lab2\\LiDAR\\PRISM\\PRISM_ppt_30yr_normal_4kmM3_06_bil.bil;E:\\ArcGIS_1\\Lab2\\LiDAR\\PRISM\\PRISM_ppt_30yr_normal_4kmM3_07_bil.bil;E:\\ArcGIS_1\\Lab2\\LiDAR\\PRISM\\PRISM_ppt_30yr_normal_4kmM3_08_bil.bil;E:\\ArcGIS_1\\Lab2\\LiDAR\\PRISM\\PRISM_ppt_30yr_normal_4kmM3_09_bil.bil;E:\\ArcGIS_1\\Lab2\\LiDAR\\PRISM\\PRISM_ppt_30yr_normal_4kmM3_10_bil.bil;E:\\ArcGIS_1\\Lab2\\LiDAR\\PRISM\\PRISM_ppt_30yr_normal_4kmM3_11_bil.bil;E:\\ArcGIS_1\\Lab2\\LiDAR\\PRISM\\PRISM_ppt_30yr_normal_4kmM3_12_bil.bil\", \"UPDATE_CELL_SIZES\", \"UPDATE_BOUNDARY\", \"NO_OVERVIEWS\", None, 0, 1500, None, '', \"SUBFOLDERS\", \"ALLOW_DUPLICATES\", \"BUILD_PYRAMIDS\", \"CALCULATE_STATISTICS\", \"NO_THUMBNAILS\", '', \"NO_FORCE_SPATIAL_REFERENCE\", \"ESTIMATE_STATISTICS\", None, \"NO_PIXEL_CACHE\", r\"C:\\Users\\osori050\\AppData\\Local\\ESRI\\rasterproxies\\PRISM\")"
   ]
  },
  {
   "cell_type": "code",
   "execution_count": 12,
   "metadata": {},
   "outputs": [
    {
     "data": {
      "text/html": [
       "<div class='gpresult'><h2>Messages</h2><div id='messages' data-messages='[\"Start Time: Tuesday, November 1, 2022 12:04:53 AM\",\"Adding Timestamp to AMD_PRISM_CAT...\",\"Succeeded at Tuesday, November 1, 2022 12:04:56 AM (Elapsed Time: 2.42 seconds)\"]' data-show='true'><div id = 'default' /></div></div>"
      ],
      "text/plain": [
       "<Result 'PRISM'>"
      ]
     },
     "execution_count": 12,
     "metadata": {},
     "output_type": "execute_result"
    }
   ],
   "source": [
    "# Creates two new fields: i) a colum populated with the word Precipitation\n",
    "# and i) a column with dates for time series\n",
    "arcpy.management.CalculateField(r\"PRISM\\Footprint\", \"Variable\", '\"Precipitation\"', \"PYTHON3\", '', \"TEXT\", \"NO_ENFORCE_DOMAINS\")\n",
    "arcpy.management.CalculateField(r\"PRISM\", \"Timestamp\", 'DateAdd(Date(2017, 0, 1), $feature.OBJECTID-1, \"month\")', \"ARCADE\", '', \"DATE\", \"NO_ENFORCE_DOMAINS\")"
   ]
  },
  {
   "cell_type": "code",
   "execution_count": 13,
   "metadata": {},
   "outputs": [
    {
     "data": {
      "text/html": [
       "<div class='gpresult'><h2>Messages</h2><div id='messages' data-messages='[\"Start Time: Tuesday, November 1, 2022 12:05:06 AM\",\"Succeeded at Tuesday, November 1, 2022 12:05:07 AM (Elapsed Time: 0.60 seconds)\"]' data-show='true'><div id = 'default' /></div></div>"
      ],
      "text/plain": [
       "<Result 'PRISM_data_MultidimLayer'>"
      ]
     },
     "execution_count": 13,
     "metadata": {},
     "output_type": "execute_result"
    }
   ],
   "source": [
    "# Builds multidimensional info to the mosaic dataset to create then\n",
    "# a multidimensional raster layer \n",
    "arcpy.md.BuildMultidimensionalInfo(\"PRISM\", \"Variable\", \"Timestamp # Date\", \"Precipitation # #\", \"NO_DELETE_MULTIDIMENSIONAL_INFO\")\n",
    "arcpy.md.MakeMultidimensionalRasterLayer(\"PRISM\", \"PRISM_data_MultidimLayer\", \"Precipitation\", \"ALL\", None, None, '', '', '', None, '', '-125.020833333333 24.0624999997935 -66.4791666661985 49.9375000000005 GEOGCS[\"GCS_North_American_1983\",DATUM[\"D_North_American_1983\",SPHEROID[\"GRS_1980\",6378137.0,298.257222101]],PRIMEM[\"Greenwich\",0.0],UNIT[\"Degree\",0.0174532925199433]]', \"DIMENSIONS\", None)"
   ]
  },
  {
   "cell_type": "code",
   "execution_count": 14,
   "metadata": {},
   "outputs": [
    {
     "data": {
      "text/html": [
       "<div class='gpresult'><h2>Messages</h2><div id='messages' data-messages='[\"Start Time: Tuesday, November 1, 2022 12:05:22 AM\",\"WARNING 110442: The Input Multidimensional Raster Layer contains irregular or missing time intervals.\",\"WARNING 110013: The default Time Step Interval is 28 days.\",\"WARNING 110067: Your spatial reference is not compatible with CF Conventions.  You may experience difficulties using the resulting space-time cube with other NetCDF tools and software.\",{\"element\":\"content\",\"data\":\"The space time cube has aggregated 508144018 points into 1112760 fishnet grid locations over 12 time step intervals.  Each location is a 4638.31 meters by 4638.31 meters square.  The entire space time cube spans an area 6516828.52 meters west to east and 3673543.2 meters north to south.  Each of the time step intervals is 28 days in duration so the entire time period covered by the space time cube is 336 days.  Of the 1112760 total locations, 629919 (56.61%) contain at least one point for at least one time step interval.  These 629919 locations comprise 7559028 space time bins of which 13349758 (176.61%) have point counts greater than zero.  There is not a statistically significant increase or decrease in point counts over time.\"},[{\"element\":\"table\",\"data\":[[{\"data\":\"Input feature time extent\",\"prop\":{\"rowspan\":2}},\"2017-01-01 06:00:00\"],[{\"data\":\"to 2017-12-01 06:00:00\",\"prop\":{\"text-align\":\"right\"}}],[\"\",\"\"],[\"Number of time steps\",\"12\"],[\"Time step interval\",\"28 days\"],[\"Time step alignment\",\"End\"],[\"\",\"\"],[\"First time step temporal bias\",\"100.00%\"],[{\"data\":\"First time step interval\",\"prop\":{\"rowspan\":4}},\"after\"],[{\"data\":\"2016-12-04 06:00:00\",\"prop\":{\"text-align\":\"right\"}}],[{\"data\":\"to on or before\",\"prop\":{\"text-align\":\"right\"}}],[{\"data\":\"2017-01-01 06:00:00\",\"prop\":{\"text-align\":\"right\"}}],[\"\",\"\"],[\"Last time step temporal bias\",\"0.00%\"],[{\"data\":\"Last time step interval\",\"prop\":{\"rowspan\":4}},\"after\"],[{\"data\":\"2017-11-01 05:00:00\",\"prop\":{\"text-align\":\"right\"}}],[{\"data\":\"to on or before\",\"prop\":{\"text-align\":\"right\"}}],[{\"data\":\"2017-12-01 06:00:00\",\"prop\":{\"text-align\":\"right\"}}],[\"\",\"\"],[\"Coordinate System\",\"WGS 1984 Web Mercator Auxiliary Sphere\"],[\"Cube extent across space\",\"(coordinates in meters)\"],[\"Min X\",\"-13917257.2777\"],[\"Min Y\",\"2761917.5217\"],[\"Max X\",\"-7400428.7541\"],[\"Max Y\",\"6435460.7179\"],[\"Rows\",\"792\"],[\"Columns\",\"1405\"],[\"Total bins\",\"13353120\"]],\"elementProps\":{\"striped\":\"true\",\"noHeader\":true,\"title\":\"Space Time Cube Characteristics\",\"0\":{\"align\":\"left\",\"pad\":\"0px\",\"wrap\":true},\"1\":{\"align\":\"right\",\"pad\":\"0px\",\"wrap\":true}}}],[{\"element\":\"table\",\"data\":[[\"% of locations excluded due to unfilled bins\",\"482841 (  43.39%)\"],[\"- Total number\",\"482841\"],[\"Total number of locations\",\"629919\"],[\"- associated bins\",\"7559028\"],[\"% of included locations with estimated bins\",\"  2.71%\"],[\"- Total number\",\"17097\"],[\"% of all bins that were estimated\",\"  0.30%\"],[\"- Total number\",\"23048\"]],\"elementProps\":{\"striped\":\"true\",\"title\":\"Summary Field - PRECIPITATION_NONE_ZEROS\",\"0\":{\"align\":\"left\",\"pad\":\"0px\",\"wrap\":true},\"1\":{\"align\":\"right\",\"pad\":\"0px\",\"wrap\":true}}}],[{\"element\":\"table\",\"data\":[[\"Trend direction\",\"Not Significant\"],[\"Trend statistic\",\"0.0000\"],[\"Trend p-value\",\"1.0000\"]],\"elementProps\":{\"striped\":\"true\",\"noHeader\":true,\"title\":\"Overall Data Trend - PRECIPITATION_NONE_ZEROS\",\"0\":{\"align\":\"left\",\"pad\":\"0px\",\"wrap\":true},\"1\":{\"align\":\"right\",\"pad\":\"0px\",\"wrap\":true}}}],\"Succeeded at Tuesday, November 1, 2022 12:05:36 AM (Elapsed Time: 14.01 seconds)\"]' data-show='true'><div id = 'default' /></div></div>"
      ],
      "text/plain": [
       "<Result 'E:\\\\ArcGIS_1\\\\Lab2\\\\LiDAR\\\\precipitation_cube.nc'>"
      ]
     },
     "execution_count": 14,
     "metadata": {},
     "output_type": "execute_result"
    }
   ],
   "source": [
    "# Creates Space Time Cubes\n",
    "arcpy.stpm.CreateSpaceTimeCubeMDRasterLayer(\"PRISM_data_MultidimLayer\", r\"precipitation_cube.nc\", \"ZEROS\")"
   ]
  },
  {
   "cell_type": "code",
   "execution_count": 15,
   "metadata": {},
   "outputs": [
    {
     "data": {
      "text/html": [
       "<div class='gpresult'><h2>Messages</h2><div id='messages' data-messages='[\"Start Time: Tuesday, November 1, 2022 12:05:38 AM\",\"WARNING 110044: The time it takes to render the cube in three dimensions may vary considerably based on the number of features and the graphics card associated with your CPU.\",\"WARNING 110054: If some or all of your data is not drawing, it may fall outside of the Visibility Range limits, which can be cleared. If some or all of your data is underground, you may need to turn off Elevation Surfaces.\",\"Succeeded at Tuesday, November 1, 2022 12:14:17 AM (Elapsed Time: 8 minutes 39 seconds)\"]' data-show='true'><div id = 'default' /></div></div>"
      ],
      "text/plain": [
       "<Result 'E:\\\\ArcGIS_1\\\\Lab2\\\\LiDAR\\\\precipitation_cube_VisualizeSpaceTimeCube3D.shp'>"
      ]
     },
     "execution_count": 15,
     "metadata": {},
     "output_type": "execute_result"
    }
   ],
   "source": [
    "# Visualization in 3D of the Space Time cubes\n",
    "arcpy.stpm.VisualizeSpaceTimeCube3D(r\"precipitation_cube.nc\", \"PRECIPITATION_NONE_ZEROS\", \"VALUE\", r\"precipitation_cube_VisualizeSpaceTimeCube3D\")"
   ]
  }
 ],
 "metadata": {
  "kernelspec": {
   "display_name": "ArcGISPro",
   "language": "Python",
   "name": "python3"
  },
  "language_info": {
   "file_extension": ".py",
   "name": "python",
   "version": "3"
  }
 },
 "nbformat": 4,
 "nbformat_minor": 2
}
