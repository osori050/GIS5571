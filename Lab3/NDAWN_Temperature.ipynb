{
 "cells": [
  {
   "cell_type": "code",
   "execution_count": 21,
   "metadata": {},
   "outputs": [],
   "source": [
    "import arcpy\n",
    "import geopandas as gpd \n",
    "import pandas as pd\n",
    "from shapely.geometry import Point\n",
    "from urllib.request import urlretrieve as retrieve\n",
    "import datetime \n",
    "import dateutil.relativedelta"
   ]
  },
  {
   "cell_type": "code",
   "execution_count": 22,
   "metadata": {},
   "outputs": [],
   "source": [
    "# Set workspace\n",
    "arcpy.env.workspace = r'E:\\ArcGIS_1\\Lab3\\NDAWN'\n",
    "wksp = arcpy.env.workspace"
   ]
  },
  {
   "cell_type": "code",
   "execution_count": 23,
   "metadata": {},
   "outputs": [],
   "source": [
    "# Retrieve today's date\n",
    "now = datetime.datetime.now()\n",
    "end_date = str(now)[0:10]\n",
    "\n",
    "# Calculate what date was a month ago based on today's date\n",
    "month_ago = now + dateutil.relativedelta.relativedelta(months=-1)\n",
    "begin_date = str(month_ago)[0:10]"
   ]
  },
  {
   "cell_type": "code",
   "execution_count": 24,
   "metadata": {},
   "outputs": [
    {
     "data": {
      "text/plain": [
       "('temperature_min.csv', <http.client.HTTPMessage object at 0x0000029306E483D0>)"
      ]
     },
     "execution_count": 24,
     "metadata": {},
     "output_type": "execute_result"
    }
   ],
   "source": [
    "# Retrieve data from NDAWN\n",
    "url_max = r'https://ndawn.ndsu.nodak.edu/table.csv?station=78&station=111&station=98&station=174&station=142&station=138&station=161&station=9&station=10&station=118&station=56&station=11&station=12&station=58&station=13&station=84&station=55&station=7&station=87&station=14&station=15&station=96&station=16&station=137&station=124&station=143&station=17&station=85&station=140&station=134&station=18&station=136&station=65&station=104&station=99&station=19&station=129&station=20&station=101&station=81&station=21&station=97&station=22&station=75&station=2&station=172&station=139&station=23&station=62&station=86&station=24&station=89&station=126&station=93&station=90&station=25&station=83&station=107&station=156&station=77&station=26&station=70&station=127&station=27&station=132&station=28&station=29&station=30&station=31&station=102&station=32&station=119&station=4&station=80&station=33&station=59&station=105&station=82&station=34&station=72&station=135&station=35&station=76&station=120&station=141&station=109&station=36&station=79&station=71&station=37&station=38&station=39&station=130&station=73&station=40&station=41&station=54&station=69&station=113&station=128&station=42&station=43&station=103&station=116&station=88&station=114&station=3&station=163&station=64&station=115&station=67&station=44&station=133&station=106&station=100&station=121&station=45&station=46&station=61&station=66&station=74&station=60&station=125&station=8&station=47&station=122&station=108&station=5&station=152&station=48&station=68&station=49&station=50&station=91&station=117&station=63&station=150&station=51&station=6&station=52&station=92&station=112&station=131&station=123&station=95&station=53&station=57&station=149&station=148&station=110&variable=ddmxt&year=2022&ttype=daily&quick_pick=30_d&begin_date=' + begin_date + '&end_date=' + end_date\n",
    "retrieve(url_max, 'temperature_max.csv')\n",
    "\n",
    "url_min = r'https://ndawn.ndsu.nodak.edu/table.csv?station=78&station=111&station=98&station=174&station=142&station=138&station=161&station=9&station=10&station=118&station=56&station=11&station=12&station=58&station=13&station=84&station=55&station=7&station=87&station=14&station=15&station=96&station=16&station=137&station=124&station=143&station=17&station=85&station=140&station=134&station=18&station=136&station=65&station=104&station=99&station=19&station=129&station=20&station=101&station=81&station=21&station=97&station=22&station=75&station=2&station=172&station=139&station=23&station=62&station=86&station=24&station=89&station=126&station=93&station=90&station=25&station=83&station=107&station=156&station=77&station=26&station=70&station=127&station=27&station=132&station=28&station=29&station=30&station=31&station=102&station=32&station=119&station=4&station=80&station=33&station=59&station=105&station=82&station=34&station=72&station=135&station=35&station=76&station=120&station=141&station=109&station=36&station=79&station=71&station=37&station=38&station=39&station=130&station=73&station=40&station=41&station=54&station=69&station=113&station=128&station=42&station=43&station=103&station=116&station=88&station=114&station=3&station=163&station=64&station=115&station=67&station=44&station=133&station=106&station=100&station=121&station=45&station=46&station=61&station=66&station=74&station=60&station=125&station=8&station=47&station=122&station=108&station=5&station=152&station=48&station=68&station=49&station=50&station=91&station=117&station=63&station=150&station=51&station=6&station=52&station=92&station=112&station=131&station=123&station=95&station=53&station=57&station=149&station=148&station=110&variable=ddmnt&year=2022&ttype=daily&quick_pick=30_d&begin_date=' + begin_date + '&end_date=' + end_date\n",
    "retrieve(url_min, 'temperature_min.csv')"
   ]
  },
  {
   "cell_type": "code",
   "execution_count": 26,
   "metadata": {},
   "outputs": [
    {
     "name": "stderr",
     "output_type": "stream",
     "text": [
      "[26]:11: UserWarning: Column names longer than 10 characters will be truncated when saved to ESRI Shapefile.\n"
     ]
    },
    {
     "data": {
      "text/html": [
       "<div class='gpresult'><h2>Messages</h2><div id='messages' data-messages='[\"Start Time: Wednesday, November 23, 2022 11:25:34 PM\",\"Succeeded at Wednesday, November 23, 2022 11:25:34 PM (Elapsed Time: 0.01 seconds)\"]' data-show='true'><div id = 'default' /></div></div>"
      ],
      "text/plain": [
       "<Result 'Stations_max.shp'>"
      ]
     },
     "execution_count": 26,
     "metadata": {},
     "output_type": "execute_result"
    }
   ],
   "source": [
    "# Read the csv file as a DataFrame and calculate the monthly average maximum temperature for each station\n",
    "temp_max = pd.read_csv(\"temperature_max.csv\", skiprows = [0, 1, 2, 4])\n",
    "temp_max.drop(['Elevation', 'Year', 'Month', 'Day','Max Temp Flag'], axis=1)\n",
    "temp_max = temp_max.groupby('Station Name').agg({'Latitude':'first', 'Longitude': 'first', 'Max Temp':'mean' })\n",
    "\n",
    "# Convert the data to a GeoDataFrame\n",
    "temp_max['geometry'] = temp_max.apply(lambda x: Point((float(x.Longitude), float(x.Latitude))), axis=1)\n",
    "temp_max_gdf = gpd.GeoDataFrame(temp_max, geometry = 'geometry')\n",
    "\n",
    "# Create a shapefile and define its spatial reference\n",
    "temp_max_gdf.to_file('Stations_max.shp', driver='ESRI Shapefile')\n",
    "arcpy.management.DefineProjection(\"Stations_max.shp\", 'GEOGCS[\"GCS_WGS_1984\",DATUM[\"D_WGS_1984\",SPHEROID[\"WGS_1984\",6378137.0,298.257223563]],PRIMEM[\"Greenwich\",0.0],UNIT[\"Degree\",0.0174532925199433]]')"
   ]
  },
  {
   "cell_type": "code",
   "execution_count": 27,
   "metadata": {},
   "outputs": [
    {
     "data": {
      "text/html": [
       "<div class='gpresult'><h2>Messages</h2><div id='messages' data-messages='[\"Start Time: Wednesday, November 23, 2022 11:25:41 PM\",\"Succeeded at Wednesday, November 23, 2022 11:25:41 PM (Elapsed Time: 0.02 seconds)\"]' data-show='true'><div id = 'default' /></div></div>"
      ],
      "text/plain": [
       "<Result 'Stations_min.shp'>"
      ]
     },
     "execution_count": 27,
     "metadata": {},
     "output_type": "execute_result"
    }
   ],
   "source": [
    "# Read the csv file as a DataFrame and calculate the monthly average minimum temperature for each station\n",
    "temp_min = pd.read_csv(\"temperature_min.csv\", skiprows = [0, 1, 2, 4])\n",
    "temp_min.drop(['Elevation', 'Year', 'Month', 'Day','Min Temp Flag'], axis=1)\n",
    "temp_min = temp_min.groupby('Station Name').agg({'Latitude':'first', 'Longitude': 'first', 'Min Temp':'mean' })\n",
    "\n",
    "# Convert the data to a GeoDataFrame\n",
    "temp_min['geometry'] = temp_min.apply(lambda x: Point((float(x.Longitude), float(x.Latitude))), axis=1)\n",
    "temp_min_gdf = gpd.GeoDataFrame(temp_min, geometry = 'geometry')\n",
    "\n",
    "# Create a shapefile and define its spatial reference\n",
    "temp_min_gdf.to_file('Stations_min.shp', driver='ESRI Shapefile')\n",
    "arcpy.management.DefineProjection(\"Stations_min.shp\", 'GEOGCS[\"GCS_WGS_1984\",DATUM[\"D_WGS_1984\",SPHEROID[\"WGS_1984\",6378137.0,298.257223563]],PRIMEM[\"Greenwich\",0.0],UNIT[\"Degree\",0.0174532925199433]]')"
   ]
  },
  {
   "cell_type": "markdown",
   "metadata": {},
   "source": [
    "### Interpolation"
   ]
  },
  {
   "cell_type": "code",
   "execution_count": 28,
   "metadata": {},
   "outputs": [
    {
     "data": {
      "text/html": [
       "<div class='gpresult'><h2>Messages</h2><div id='messages' data-messages='[\"Start Time: Wednesday, November 23, 2022 11:29:44 PM\",\"LINEAR DRIFT\\nLag size\\t\\t= 0.014479\\nPartial sill\\t= 1.269587\\nNugget\\t\\t= 0.000000\\nMajor range\\t= 0.000000\",\"Succeeded at Wednesday, November 23, 2022 11:29:45 PM (Elapsed Time: 0.84 seconds)\"]' data-show='true'><div id = 'default' /></div></div>"
      ],
      "text/plain": [
       "<Result 'E:\\\\ArcGIS_1\\\\Lab3\\\\NDAWN\\\\Kriging_Universal_min.tif'>"
      ]
     },
     "execution_count": 28,
     "metadata": {},
     "output_type": "execute_result"
    }
   ],
   "source": [
    "# IDW, alpha = 2, # variables = 5\n",
    "arcpy.ddd.Idw(\"Stations_max.shp\", \"Max Temp\", \"IDW_max.tif\", 0.01447904, 2, \"VARIABLE 12\", None)\n",
    "arcpy.ddd.Idw(\"Stations_min.shp\", \"Min Temp\", \"IDW_min.tif\", 0.01447904, 2, \"VARIABLE 12\", None)\n",
    "\n",
    "# GPI, order = 2\n",
    "arcpy.ga.GlobalPolynomialInterpolation(\"Stations_max.shp\", \"Max Temp\", None, \"GPI_max.tif\", 0.01447904, 2, None)\n",
    "arcpy.ga.GlobalPolynomialInterpolation(\"Stations_min.shp\", \"Min Temp\", None, \"GPI_min.tif\", 0.01447904, 2, None)\n",
    "\n",
    "# Krigin ordinary, semi-variogram model = spherical\n",
    "arcpy.ddd.Kriging(\"Stations_max.shp\", \"Max Temp\", \"Kriging_Ordinary_max.tif\", \"Spherical 0.014479 # # #\", 0.01447904, \"VARIABLE 12\", None)\n",
    "arcpy.ddd.Kriging(\"Stations_min.shp\", \"Min Temp\", \"Kriging_Ordinary_min.tif\", \"Spherical 0.014479 # # #\", 0.01447904, \"VARIABLE 12\", None)\n",
    "\n",
    "# Krigin universal, semi_variogram model = linear drift\n",
    "arcpy.ddd.Kriging(\"Stations_max.shp\", \"Max Temp\", \"Kriging_Universal_max.tif\", \"LinearDrift 0.014479 # # #\", 0.01447904, \"VARIABLE 12\", None)\n",
    "arcpy.ddd.Kriging(\"Stations_min.shp\", \"Min Temp\", \"Kriging_Universal_min.tif\", \"LinearDrift 0.014479 # # #\", 0.01447904, \"VARIABLE 12\", None)"
   ]
  }
 ],
 "metadata": {
  "kernelspec": {
   "display_name": "ArcGISPro",
   "language": "Python",
   "name": "python3"
  },
  "language_info": {
   "file_extension": ".py",
   "name": "python",
   "version": "3"
  }
 },
 "nbformat": 4,
 "nbformat_minor": 2
}
